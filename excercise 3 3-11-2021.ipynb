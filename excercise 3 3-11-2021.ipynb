{
 "cells": [
  {
   "cell_type": "code",
   "execution_count": 1,
   "metadata": {},
   "outputs": [
    {
     "name": "stdout",
     "output_type": "stream",
     "text": [
      "enter the temp in celsius35\n",
      "temp in fahrenheit 95.0\n"
     ]
    }
   ],
   "source": [
    "#conversion from celsius to fahrenheit\n",
    "c=float(input(\"enter the temp in celsius\"))\n",
    "f=((c*(9/5))+32)\n",
    "print(\"temp in fahrenheit\",f)"
   ]
  },
  {
   "cell_type": "code",
   "execution_count": 2,
   "metadata": {},
   "outputs": [
    {
     "name": "stdout",
     "output_type": "stream",
     "text": [
      "enter measurement in km2\n",
      "2.000000 km is equivalent to 1.242474 miles\n"
     ]
    }
   ],
   "source": [
    "#conversion from km to miles\n",
    "k=float(input(\"enter measurement in km\"))\n",
    "m=k*0.6212371\n",
    "print(\"%f km is equivalent to %f miles\"%(k,m))"
   ]
  },
  {
   "cell_type": "code",
   "execution_count": 5,
   "metadata": {},
   "outputs": [
    {
     "name": "stdout",
     "output_type": "stream",
     "text": [
      "enter the first number 23\n",
      "enter the second number 45\n",
      "enter the third number 12\n",
      "biggest number is : 45\n"
     ]
    }
   ],
   "source": [
    "#to find biggest number among 3 numbers\n",
    "x=int(input(\"enter the first number \"))\n",
    "y=int(input(\"enter the second number \"))\n",
    "z=int(input(\"enter the third number \"))\n",
    "m=max(x,y,z)\n",
    "print(\"biggest number is :\",m)"
   ]
  }
 ],
 "metadata": {
  "kernelspec": {
   "display_name": "Python 3",
   "language": "python",
   "name": "python3"
  },
  "language_info": {
   "codemirror_mode": {
    "name": "ipython",
    "version": 3
   },
   "file_extension": ".py",
   "mimetype": "text/x-python",
   "name": "python",
   "nbconvert_exporter": "python",
   "pygments_lexer": "ipython3",
   "version": "3.8.8"
  }
 },
 "nbformat": 4,
 "nbformat_minor": 2
}
