{
 "cells": [
  {
   "cell_type": "code",
   "execution_count": 1,
   "metadata": {},
   "outputs": [
    {
     "name": "stdout",
     "output_type": "stream",
     "text": [
      "enter the base of right traingle 4\n",
      "enter the height of right traingle 2\n",
      "area of the right angled triangle is  4.0\n"
     ]
    }
   ],
   "source": [
    "#area of right angled triangle\n",
    "b=int(input(\"enter the base of right traingle \"))\n",
    "h=int(input(\"enter the height of right traingle \"))\n",
    "area=0.5*b*h\n",
    "print(\"area of the right angled triangle is \",area)"
   ]
  },
  {
   "cell_type": "code",
   "execution_count": 3,
   "metadata": {},
   "outputs": [
    {
     "name": "stdout",
     "output_type": "stream",
     "text": [
      "enter username shamil\n",
      "hello,shamil!\n"
     ]
    }
   ],
   "source": [
    "#to greet the user\n",
    "name=input(\"enter username \")\n",
    "print(\"hello,\"+name+\"!\")"
   ]
  },
  {
   "cell_type": "code",
   "execution_count": 9,
   "metadata": {},
   "outputs": [
    {
     "name": "stdout",
     "output_type": "stream",
     "text": [
      "enter the sides of the square 4\n",
      "area of the square is  16\n"
     ]
    }
   ],
   "source": [
    "#to find area of square\n",
    "n=int(input(\"enter the sides of the square \"))\n",
    "area=n*n\n",
    "print(\"area of the square is \",area)"
   ]
  },
  {
   "cell_type": "code",
   "execution_count": 6,
   "metadata": {},
   "outputs": [
    {
     "name": "stdout",
     "output_type": "stream",
     "text": [
      "enter the number 6\n",
      "previous number is  5\n",
      "next number is  7\n"
     ]
    }
   ],
   "source": [
    "#to print pervious and next number of a entered number\n",
    "n=int(input(\"enter the number\"))\n",
    "prev=n-1\n",
    "next=n+1\n",
    "print(\"previous number is \",prev)\n",
    "print(\"next number is \",next)"
   ]
  },
  {
   "cell_type": "code",
   "execution_count": 7,
   "metadata": {},
   "outputs": [
    {
     "name": "stdout",
     "output_type": "stream",
     "text": [
      "enter the principal amount 1000\n",
      "enter the rate of interest 4\n",
      "enter the the time of period 2\n",
      "simple interest is  80.0\n"
     ]
    }
   ],
   "source": [
    "#to calculate SI\n",
    "p=int(input(\"enter the principal amount \"))\n",
    "r=float(input(\"enter the rate of interest \"))\n",
    "t=int(input(\"enter the the time of period \"))\n",
    "SI=(p*r*t)/100\n",
    "print(\"simple interest is \",SI)"
   ]
  },
  {
   "cell_type": "code",
   "execution_count": null,
   "metadata": {
    "collapsed": true
   },
   "outputs": [],
   "source": []
  }
 ],
 "metadata": {
  "kernelspec": {
   "display_name": "Python 3",
   "language": "python",
   "name": "python3"
  },
  "language_info": {
   "codemirror_mode": {
    "name": "ipython",
    "version": 3
   },
   "file_extension": ".py",
   "mimetype": "text/x-python",
   "name": "python",
   "nbconvert_exporter": "python",
   "pygments_lexer": "ipython3",
   "version": "3.6.3"
  }
 },
 "nbformat": 4,
 "nbformat_minor": 2
}
