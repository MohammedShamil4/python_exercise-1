{
 "cells": [
  {
   "cell_type": "code",
   "execution_count": 13,
   "metadata": {
    "scrolled": true
   },
   "outputs": [
    {
     "name": "stdout",
     "output_type": "stream",
     "text": [
      "enter the radius of the circle 4\n",
      "area of the circle is  50.26548245743669\n"
     ]
    }
   ],
   "source": [
    "#input the radius of a circle and compute the area(import math)\n",
    "import math\n",
    "r=int(input(\"enter the radius of the circle \"))\n",
    "area=math.pi*r*r\n",
    "print(\"area of the circle is \",area)"
   ]
  },
  {
   "cell_type": "code",
   "execution_count": 12,
   "metadata": {},
   "outputs": [
    {
     "name": "stdout",
     "output_type": "stream",
     "text": [
      "enter the number 4\n",
      "sum is 492\n"
     ]
    }
   ],
   "source": [
    "#write a python program that accepts an integer (n) and computes the value of n+nn+nnn\n",
    "n=int(input(\"enter the number \"))\n",
    "s=n*(1+11+111)\n",
    "print(\"sum is\",s)"
   ]
  },
  {
   "cell_type": "code",
   "execution_count": 18,
   "metadata": {},
   "outputs": [
    {
     "name": "stdout",
     "output_type": "stream",
     "text": [
      "enter the number 3\n",
      "sum is 369\n"
     ]
    }
   ],
   "source": [
    "#write a python program that accepts an integer (n) and computes the value of n+nn+nnn\n",
    "n=int(input(\"enter the number \"))\n",
    "s=n+((n*10)+n)+(((n*100)+(10*n)+n))\n",
    "print(\"sum is\",s)"
   ]
  }
 ],
 "metadata": {
  "kernelspec": {
   "display_name": "Python 3",
   "language": "python",
   "name": "python3"
  },
  "language_info": {
   "codemirror_mode": {
    "name": "ipython",
    "version": 3
   },
   "file_extension": ".py",
   "mimetype": "text/x-python",
   "name": "python",
   "nbconvert_exporter": "python",
   "pygments_lexer": "ipython3",
   "version": "3.8.8"
  }
 },
 "nbformat": 4,
 "nbformat_minor": 2
}
