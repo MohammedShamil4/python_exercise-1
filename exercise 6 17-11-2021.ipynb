{
 "cells": [
  {
   "cell_type": "code",
   "execution_count": 11,
   "metadata": {},
   "outputs": [
    {
     "name": "stdout",
     "output_type": "stream",
     "text": [
      "enter the number 5\n",
      "factorial of  5  is  120\n"
     ]
    }
   ],
   "source": [
    "#to find factorial of a given number\n",
    "n=int(input(\"enter the number \"))\n",
    "fact=1\n",
    "i=1\n",
    "while(i<=n):\n",
    "    fact=fact*i;\n",
    "    i=i+1;\n",
    "print(\"factorial of \",n,\" is \",fact)"
   ]
  },
  {
   "cell_type": "code",
   "execution_count": 30,
   "metadata": {},
   "outputs": [
    {
     "name": "stdout",
     "output_type": "stream",
     "text": [
      "enter the number of terms 5\n",
      "fibonacci series upto 5 term is :\n",
      "0\n",
      "1\n",
      "1\n",
      "2\n",
      "3\n"
     ]
    }
   ],
   "source": [
    "#to find fibonacci series of n term\n",
    "n=int(input(\"enter the number of terms \"))\n",
    "a=0\n",
    "b=1\n",
    "i=0\n",
    "c=0\n",
    "if n==0:\n",
    "    print(\"0\")\n",
    "    \n",
    "elif n<0:\n",
    "    print(\"enter positive number\")\n",
    "    \n",
    "elif n==1:\n",
    "    print (\"fibonacci series upto\",n,\"term is :\",a  )\n",
    "else:\n",
    "    print(\"fibonacci series upto\",n,\"term is :\")\n",
    "    while(i<n):\n",
    "        print(a)\n",
    "        c=a+b\n",
    "        a=b\n",
    "        b=c\n",
    "        i+=1"
   ]
  },
  {
   "cell_type": "code",
   "execution_count": 37,
   "metadata": {},
   "outputs": [
    {
     "name": "stdout",
     "output_type": "stream",
     "text": [
      "enter the first number 8\n",
      "enter the second number 2\n",
      "greatest common divisor of ( 8 , 2 ) is: 2\n"
     ]
    }
   ],
   "source": [
    "#greatest common divisor of 2 numbers\n",
    "m=int(input(\"enter the first number \"))\n",
    "n=int(input(\"enter the second number \"))\n",
    "if(m>n):\n",
    "    k=n\n",
    "else:\n",
    "    k=m\n",
    "while k>0:\n",
    "     if(m%k==0) and (n%k==0):\n",
    "        print(\"greatest common divisor of (\",m,\",\",n,\") is:\",k)\n",
    "        break\n",
    "k=k-1"
   ]
  },
  {
   "cell_type": "code",
   "execution_count": 7,
   "metadata": {},
   "outputs": [
    {
     "name": "stdout",
     "output_type": "stream",
     "text": [
      "enter number using comma 1,2,3,4,5\n",
      "sum of the list is :  15\n"
     ]
    }
   ],
   "source": [
    "#sum of all items in a list\n",
    "n=input(\"enter number using comma \")\n",
    "m=n.rsplit(\",\")\n",
    "sum=0\n",
    "for a in m:\n",
    " sum=sum+int(a)\n",
    "print(\"sum of the list is : \",sum)"
   ]
  },
  {
   "cell_type": "code",
   "execution_count": 40,
   "metadata": {},
   "outputs": [
    {
     "name": "stdout",
     "output_type": "stream",
     "text": [
      "enter number 4\n",
      "the pyramid: \n",
      "1 \n",
      "\n",
      "2 4 \n",
      "\n",
      "3 6 9 \n",
      "\n",
      "4 8 12 16 \n",
      "\n"
     ]
    }
   ],
   "source": [
    "#pyramid of multiples\n",
    "\n",
    "n=int(input(\"enter number \"))\n",
    "print(\"the pyramid: \")\n",
    "for i in range(1,n+1):\n",
    "    for j in range(1,i+1):\n",
    "        print(i*j,end=\" \")\n",
    "    print(\"\\n\")\n",
    "    "
   ]
  },
  {
   "cell_type": "code",
   "execution_count": 2,
   "metadata": {},
   "outputs": [
    {
     "name": "stdout",
     "output_type": "stream",
     "text": [
      "enter string: mohammedshamil\n",
      "frequency of the character  m  is  4\n",
      "frequency of the character  o  is  1\n",
      "frequency of the character  h  is  2\n",
      "frequency of the character  a  is  2\n",
      "frequency of the character  e  is  1\n",
      "frequency of the character  d  is  1\n",
      "frequency of the character  s  is  1\n",
      "frequency of the character  i  is  1\n",
      "frequency of the character  l  is  1\n"
     ]
    }
   ],
   "source": [
    "#frequency of characters of a string\n",
    "n=input(\"enter string: \")\n",
    "l=list(n)\n",
    "s=[]\n",
    "[s.append(x) for x in l if x not in s]\n",
    "for i in s:\n",
    " m=l.count(i)\n",
    " print(\"frequency of the character \",i,\" is \", m)\n"
   ]
  },
  {
   "cell_type": "code",
   "execution_count": 8,
   "metadata": {},
   "outputs": [
    {
     "name": "stdout",
     "output_type": "stream",
     "text": [
      "enter a number12\n",
      "the factors of 12 are : \n",
      "12  6  4  3  2  1  "
     ]
    }
   ],
   "source": [
    "#factors of a given number\n",
    "num=int(input(\"enter a number\"))\n",
    "i=num\n",
    "print(\"the factors of\",num,\"are : \")\n",
    "while i>0:\n",
    "    if(num%i==0):\n",
    "        print(i,\" \",end=\"\")\n",
    "    i=i-1"
   ]
  },
  {
   "cell_type": "code",
   "execution_count": 13,
   "metadata": {},
   "outputs": [
    {
     "name": "stdout",
     "output_type": "stream",
     "text": [
      "*\n",
      "\n",
      "**\n",
      "\n",
      "***\n",
      "\n",
      "****\n",
      "\n",
      "*****\n",
      "\n",
      "****\n",
      "\n",
      "***\n",
      "\n",
      "**\n",
      "\n",
      "*\n",
      "\n"
     ]
    }
   ],
   "source": [
    "for i in range(0,4):\n",
    "    for j in range(0,i+1):\n",
    "        print(\"*\",end=\"\")\n",
    "    print(\"\\n\")\n",
    "for i in range(4,-1,-1):\n",
    "    for j in range(0,i+1):\n",
    "        print(\"*\",end=\"\")\n",
    "    print(\"\\n\")"
   ]
  }
 ],
 "metadata": {
  "kernelspec": {
   "display_name": "Python 3",
   "language": "python",
   "name": "python3"
  },
  "language_info": {
   "codemirror_mode": {
    "name": "ipython",
    "version": 3
   },
   "file_extension": ".py",
   "mimetype": "text/x-python",
   "name": "python",
   "nbconvert_exporter": "python",
   "pygments_lexer": "ipython3",
   "version": "3.8.8"
  }
 },
 "nbformat": 4,
 "nbformat_minor": 2
}
