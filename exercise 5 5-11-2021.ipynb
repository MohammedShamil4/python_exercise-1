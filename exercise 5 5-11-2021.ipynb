{
 "cells": [
  {
   "cell_type": "code",
   "execution_count": 2,
   "metadata": {},
   "outputs": [
    {
     "name": "stdout",
     "output_type": "stream",
     "text": [
      "enter number using comma 1,2,3,4,5\n",
      "list is :  ['1', '2', '3', '4', '5']\n"
     ]
    }
   ],
   "source": [
    "#generating list from a sequence of numbers seperated by comma from user\n",
    "n=input(\"enter number using comma \")\n",
    "m=n.rsplit(\",\")\n",
    "print(\"list is : \",m)\n"
   ]
  },
  {
   "cell_type": "code",
   "execution_count": 6,
   "metadata": {},
   "outputs": [
    {
     "name": "stdout",
     "output_type": "stream",
     "text": [
      "enter colours using comma yellow,blue,red,black,orange\n",
      "first colour is :  yellow\n",
      "last colour is :  orange\n"
     ]
    }
   ],
   "source": [
    "#generating list consisting of first and last colour from a sequence of colour seperated by comma from user\n",
    "n=input(\"enter colours using comma \")\n",
    "m=n.rsplit(\",\")\n",
    "print(\"first colour is : \",m[0])\n",
    "print(\"last colour is : \",m[-1])\n"
   ]
  },
  {
   "cell_type": "code",
   "execution_count": 8,
   "metadata": {},
   "outputs": [
    {
     "name": "stdout",
     "output_type": "stream",
     "text": [
      "enter filename with file extension python.png\n",
      "extension of the file is :  png\n"
     ]
    }
   ],
   "source": [
    "#printing extension of a file from a filename given by user\n",
    "n=input(\"enter filename with file extension \")\n",
    "m=n.rsplit(\".\")\n",
    "print(\"extension of the file is : \",m[-1])\n"
   ]
  }
 ],
 "metadata": {
  "kernelspec": {
   "display_name": "Python 3",
   "language": "python",
   "name": "python3"
  },
  "language_info": {
   "codemirror_mode": {
    "name": "ipython",
    "version": 3
   },
   "file_extension": ".py",
   "mimetype": "text/x-python",
   "name": "python",
   "nbconvert_exporter": "python",
   "pygments_lexer": "ipython3",
   "version": "3.8.8"
  }
 },
 "nbformat": 4,
 "nbformat_minor": 2
}
