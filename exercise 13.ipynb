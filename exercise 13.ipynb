{
 "cells": [
  {
   "cell_type": "code",
   "execution_count": 9,
   "metadata": {},
   "outputs": [
    {
     "name": "stdout",
     "output_type": "stream",
     "text": [
      "enter a : 3\n",
      "enter b : f\n",
      "Error occured\n"
     ]
    }
   ],
   "source": [
    "#prgrm-1 handling zerodivisionError and valueError during division method \n",
    "try:\n",
    "    n=float(input(\"enter a : \"))\n",
    "    m=float(input(\"enter b : \"))\n",
    "    result=n/m\n",
    "    print(result)\n",
    "except(ZeroDivisionError,ValueError):\n",
    "    print('Error occured')"
   ]
  },
  {
   "cell_type": "code",
   "execution_count": 25,
   "metadata": {},
   "outputs": [
    {
     "name": "stdout",
     "output_type": "stream",
     "text": [
      "enter value : 12\n",
      "large\n",
      "enter value : 11\n",
      "large\n",
      "enter value : 2\n",
      "small\n",
      "enter value : 10\n",
      "correct\n"
     ]
    }
   ],
   "source": [
    "#prgrm-2 user defined exception valuetoosmall and valuetoolargeError when user types anumber smaller\n",
    "#than the given no. and larger than the given number respectively\n",
    "class error(Exception):\n",
    "    pass\n",
    "class small(error):\n",
    "    pass\n",
    "class large(error):\n",
    "    pass\n",
    "n=10\n",
    "while(1):\n",
    "    try:\n",
    "        m=int(input(\"enter value : \"))\n",
    "        if n>m:\n",
    "            raise small\n",
    "        elif n<m:\n",
    "            raise large\n",
    "        break\n",
    "    except small:\n",
    "        print('small')\n",
    "    except large:\n",
    "        print('large')\n",
    "print(\"correct\")"
   ]
  },
  {
   "cell_type": "code",
   "execution_count": 38,
   "metadata": {},
   "outputs": [
    {
     "name": "stdout",
     "output_type": "stream",
     "text": [
      "mismatched error\n"
     ]
    }
   ],
   "source": [
    "#assert\n",
    "try:\n",
    "    assert 1==0,'mismatched error'\n",
    "except AssertionError as args:\n",
    "    print(args)"
   ]
  },
  {
   "cell_type": "code",
   "execution_count": 1,
   "metadata": {},
   "outputs": [
    {
     "name": "stdout",
     "output_type": "stream",
     "text": [
      "enter : 3\n",
      "enter : 0\n",
      "Division by Zero Error occured\n"
     ]
    }
   ],
   "source": [
    "#zero division error\n",
    "try:\n",
    "    n=float(input(\"enter : \"))\n",
    "    m=float(input(\"enter : \"))\n",
    "    result=n/m\n",
    "    print(result)\n",
    "except ZeroDivisionError:\n",
    "    print('Division by Zero Error occured')"
   ]
  },
  {
   "cell_type": "code",
   "execution_count": 2,
   "metadata": {},
   "outputs": [
    {
     "name": "stdout",
     "output_type": "stream",
     "text": [
      "enter : 4\n",
      "enter : 0\n",
      "Division by Zero Error occured\n"
     ]
    }
   ],
   "source": [
    "#zero division error\n",
    "try:\n",
    "    n=float(input(\"enter : \"))\n",
    "    m=float(input(\"enter : \"))\n",
    "    result=n/m\n",
    "    print(result)\n",
    "except:\n",
    "    print('Division by Zero Error occured')"
   ]
  }
 ],
 "metadata": {
  "kernelspec": {
   "display_name": "Python 3",
   "language": "python",
   "name": "python3"
  },
  "language_info": {
   "codemirror_mode": {
    "name": "ipython",
    "version": 3
   },
   "file_extension": ".py",
   "mimetype": "text/x-python",
   "name": "python",
   "nbconvert_exporter": "python",
   "pygments_lexer": "ipython3",
   "version": "3.8.8"
  }
 },
 "nbformat": 4,
 "nbformat_minor": 2
}
