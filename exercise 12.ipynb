{
 "cells": [
  {
   "cell_type": "code",
   "execution_count": 1,
   "id": "2a3df936",
   "metadata": {},
   "outputs": [
    {
     "name": "stdout",
     "output_type": "stream",
     "text": [
      "length4\n",
      "breadth5\n",
      "area  1st rectangle 20\n",
      "perimeter 1st rectangle 18\n",
      "\n",
      "\n",
      "length3\n",
      "breadth4\n",
      "area 2nd rectangle 12\n",
      "perimeter 2nd rectangle 18\n",
      "\n",
      "\n",
      "area of rect  1 is greater \n"
     ]
    }
   ],
   "source": [
    "#create rectangle class with attribute l and b and method to find area and perimeter.compare 2 rectangle object by their area\n",
    "class rectangle():\n",
    "    def getrectangle(self,length,breadth):\n",
    "        self.length=length\n",
    "        self.breadth=breadth\n",
    "    def area(self):\n",
    "        return (self.breadth*self.length)\n",
    "    def perimeter(self):\n",
    "        return (self.breadth+self.length)*2\n",
    "    \n",
    "newrectangle=rectangle()\n",
    "length=int(input(\"length\"))\n",
    "breadth=int(input(\"breadth\"))\n",
    "newrectangle.getrectangle(length,breadth)\n",
    "print(\"area  1st rectangle\",newrectangle.area())\n",
    "print(\"perimeter 1st rectangle\",newrectangle.perimeter())\n",
    "\n",
    "print(\"\\n\")\n",
    "\n",
    "newrectangle1=rectangle()\n",
    "length=int(input(\"length\"))\n",
    "breadth=int(input(\"breadth\"))\n",
    "newrectangle1.getrectangle(length,breadth)\n",
    "print(\"area 2nd rectangle\",newrectangle1.area())\n",
    "print(\"perimeter 2nd rectangle\",newrectangle.perimeter())\n",
    "\n",
    "r=newrectangle.area()\n",
    "s=newrectangle1.area()\n",
    "\n",
    "print(\"\\n\")\n",
    "\n",
    "if r>s:\n",
    "    print(\"area of rect  1 is greater \")\n",
    "else:\n",
    "    print(\"area of rect  2 is greater \")"
   ]
  },
  {
   "cell_type": "code",
   "execution_count": 7,
   "id": "6ac23e01",
   "metadata": {},
   "outputs": [
    {
     "name": "stdout",
     "output_type": "stream",
     "text": [
      "Enter the roll number: 17\n",
      "Enter the name: shamil\n",
      "Enter the batch: mca\n",
      "\n",
      "\n",
      "Rollno  :  17\n",
      "Name    :  shamil\n",
      "class   :  mca\n"
     ]
    }
   ],
   "source": [
    "#class student.include details like rollno,name and class and display\n",
    "\n",
    "class Student:\n",
    "    def getData(self, rn, name, batch):\n",
    "        Student.rn = rn\n",
    "        Student.name = name\n",
    "        Student.batch= batch\n",
    "            \n",
    "    def displayData(self):\n",
    "        print (\"Rollno  : \", Student.rn)\n",
    "        print (\"Name    : \", Student.name)\n",
    "        print (\"class   : \",Student.batch)\n",
    "         \n",
    "r = int (input(\"Enter the roll number: \"))\n",
    "name = input(\"Enter the name: \")\n",
    "batch = input(\"Enter the batch: \")\n",
    " \n",
    "print(\"\\n\")\n",
    "s1 = Student()\n",
    "s1.getData(r, name, batch)\n",
    "s1.displayData()"
   ]
  },
  {
   "cell_type": "code",
   "execution_count": 1,
   "id": "84456c91",
   "metadata": {},
   "outputs": [
    {
     "name": "stdout",
     "output_type": "stream",
     "text": [
      "enter name : Shamil\n",
      "enter rollno. : 17\n",
      "enter batch : MCA\n",
      "\n",
      "\n",
      "RECORDED DETAILS OF THE STUDENT IS  \n",
      "Name :  Shamil\n",
      "Rollno :  17\n",
      "Batch :  MCA\n"
     ]
    }
   ],
   "source": [
    "#class student.include details like rollno,name and class. assign initial values and display student details\n",
    "class Student:\n",
    "  def __init__(self, name, rollno,batch):\n",
    "    self.name = name\n",
    "    self.rollno = rollno\n",
    "    self.batch = batch\n",
    "\n",
    "  def detail(self):\n",
    "    print(\"Name : \" ,self.name)\n",
    "    print(\"Rollno : \" ,self.rollno)\n",
    "    print(\"Batch : \" ,self.batch)\n",
    "\n",
    "n=input(\"enter name : \")\n",
    "r=int(input(\"enter rollno. : \"))\n",
    "b=input(\"enter batch : \")\n",
    "print(\"\\n\")\n",
    "print(\"RECORDED DETAILS OF THE STUDENT IS  \")\n",
    "p = Student(n, r,b)\n",
    "p.detail()"
   ]
  },
  {
   "cell_type": "code",
   "execution_count": null,
   "id": "d68537a2",
   "metadata": {},
   "outputs": [],
   "source": []
  }
 ],
 "metadata": {
  "kernelspec": {
   "display_name": "Python 3",
   "language": "python",
   "name": "python3"
  },
  "language_info": {
   "codemirror_mode": {
    "name": "ipython",
    "version": 3
   },
   "file_extension": ".py",
   "mimetype": "text/x-python",
   "name": "python",
   "nbconvert_exporter": "python",
   "pygments_lexer": "ipython3",
   "version": "3.8.8"
  }
 },
 "nbformat": 4,
 "nbformat_minor": 5
}
