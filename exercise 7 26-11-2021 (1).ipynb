{
 "cells": [
  {
   "cell_type": "code",
   "execution_count": 4,
   "metadata": {},
   "outputs": [
    {
     "name": "stdout",
     "output_type": "stream",
     "text": [
      "enter the numbers : 1,2,-4,-6,-87\n",
      "positive list is :  [1, 2]\n"
     ]
    }
   ],
   "source": [
    "#positive list of numbers  from a given list of numbers\n",
    "l=list(map(int,input(\"enter the numbers using comma : \").split(\",\")))\n",
    "m=[x for x in l if x>0]\n",
    "print(\"positive list is : \",m)"
   ]
  },
  {
   "cell_type": "code",
   "execution_count": 5,
   "metadata": {},
   "outputs": [
    {
     "name": "stdout",
     "output_type": "stream",
     "text": [
      "enter the numbers using comma : 1,2,3,4\n",
      "square of n number is :  [1, 4, 9, 16]\n"
     ]
    }
   ],
   "source": [
    "# square of numbers\n",
    "l=list(map(int,input(\"enter the numbers using comma : \").split(\",\")))\n",
    "m=[x*x for x in l]\n",
    "print(\"square of n number is : \",m)"
   ]
  },
  {
   "cell_type": "code",
   "execution_count": 23,
   "metadata": {},
   "outputs": [
    {
     "name": "stdout",
     "output_type": "stream",
     "text": [
      "enter string: malayalam\n",
      "['a']\n"
     ]
    }
   ],
   "source": [
    "#forming vowels from a given word\n",
    "n=input(\"enter string: \")\n",
    "l=list(n)\n",
    "m=['a','e','i','o','u','A','E','I','O','U']\n",
    "s=[]\n",
    "[s.append(x) for x in l if x in m and x not in s]\n",
    "print(s)"
   ]
  },
  {
   "cell_type": "code",
   "execution_count": 77,
   "metadata": {},
   "outputs": [
    {
     "name": "stdout",
     "output_type": "stream",
     "text": [
      "enter the word car\n",
      "ordinal values of each word is  [99, 97, 114]\n"
     ]
    }
   ],
   "source": [
    "#ordinal value of each element of a word\n",
    "n=list(input(\"enter the word \"))\n",
    "m=[ord(x) for x in n]\n",
    "print(\"ordinal values of each word is \",m)"
   ]
  },
  {
   "cell_type": "code",
   "execution_count": 78,
   "metadata": {},
   "outputs": [
    {
     "name": "stdout",
     "output_type": "stream",
     "text": [
      "enter the numbers using comma : 1,222,988,34,67,100\n",
      "[1, 'over', 'over', 34, 67, 100]\n"
     ]
    }
   ],
   "source": [
    "#list of integer for all values greater than 100 store \"over\" instead\n",
    "n=list(map(int,input(\"enter the numbers using comma : \").split(\",\")))\n",
    "for x in range(len(n)):\n",
    "    if n[x]>100:\n",
    "        n[x]=\"over\"\n",
    "print(n)"
   ]
  },
  {
   "cell_type": "code",
   "execution_count": 1,
   "metadata": {},
   "outputs": [
    {
     "name": "stdout",
     "output_type": "stream",
     "text": [
      "enter the first name separated by comma:saam,mam,ram\n",
      "The given list is -->  ['saam', 'mam', 'ram']\n",
      "The number of occurence of a in the word saam  is:  2\n",
      "The number of occurence of a in the word mam  is:  1\n",
      "The number of occurence of a in the word ram  is:  1\n",
      "total occurance of the letter a in the list is :  4\n"
     ]
    }
   ],
   "source": [
    "#count of oocurrence of \"a\" within the list from stored list of first names\n",
    "n=list(input(\"enter the first name separated by comma:\").split(\",\"))\n",
    "print(\"The given list is --> \",n)\n",
    "l=0\n",
    "for i in n:\n",
    " print(\"The number of occurence of a in the word\",i,\" is: \",i.count(\"a\"))\n",
    " l=l+i.count(\"a\")\n",
    "print(\"total occurance of the letter a in the list is : \",l)"
   ]
  },
  {
   "cell_type": "code",
   "execution_count": 21,
   "metadata": {},
   "outputs": [
    {
     "name": "stdout",
     "output_type": "stream",
     "text": [
      "enter the integer of list 1 separated by comma:1,2,3\n",
      "enter the integer of list 2 separated by comma:1,2,3\n",
      "both list have same length that is :  3\n",
      "both list have same sum value that is :  6\n",
      "same occurance values are : [1, 2, 3]\n"
     ]
    }
   ],
   "source": [
    "#list of integer checking whether they have same length,same value and occurance of same value \n",
    "n=list(map(int,input(\"enter the integer of list 1 separated by comma:\").split(\",\")))\n",
    "m=list(map(int,input(\"enter the integer of list 2 separated by comma:\").split(\",\")))\n",
    "\n",
    "if len(n)==len(m):\n",
    "        print(\"both list have same length that is : \",len(n))\n",
    "else:\n",
    "        print(\"both list donot have same length that is length of list 1 is:\",len(n) ,\"and length of list 2 is: \",len(m))\n",
    "\n",
    "if sum(n)==sum(m):\n",
    "        print(\"both list have same sum value that is : \",sum(n))\n",
    "else:\n",
    "        print(\"both list donot have same sum value that is sum of list 1 is:\",sum(n) ,\"and sum of list 2 is: \",sum(m))\n",
    "\n",
    "s=[x for x in n if x in m]\n",
    "if len(s)!=0:\n",
    "        print(\"same occurance values are :\",s)\n",
    "else:\n",
    "        print(\"not having any common occurence in both list\")"
   ]
  },
  {
   "cell_type": "code",
   "execution_count": 4,
   "metadata": {},
   "outputs": [
    {
     "name": "stdout",
     "output_type": "stream",
     "text": [
      "enter the color list1 separated by comma:black,blue,yellow,green\n",
      "enter the color list2 separated by comma:blue,green,violet,indigo\n",
      "colours present in list 1 and not in list2 {'yellow', 'black'}\n"
     ]
    }
   ],
   "source": [
    "#list of all colours present in list 1 which is not present in list2 \n",
    "n=set(input(\"enter the color list1 separated by comma:\").split(\",\"))\n",
    "m=set(input(\"enter the color list2 separated by comma:\").split(\",\"))\n",
    "s=n-m\n",
    "print(\"colours present in list 1 and not in list2\",s)"
   ]
  },
  {
   "cell_type": "code",
   "execution_count": 5,
   "metadata": {},
   "outputs": [
    {
     "name": "stdout",
     "output_type": "stream",
     "text": [
      "enter the list of numbers separated by comma:12,3,5,7,8,10,4\n",
      "List obtained after removing even numbers is -->  [3, 5, 7]\n"
     ]
    }
   ],
   "source": [
    "#List obtained after removing even numbers from given list\n",
    "n=list(map(int,input(\"enter the list of numbers separated by comma:\").split(\",\")))\n",
    "s=[x for x in n if (x)%2!=0]\n",
    "print(\"List obtained after removing even numbers is --> \",s)"
   ]
  },
  {
   "cell_type": "code",
   "execution_count": 16,
   "metadata": {},
   "outputs": [
    {
     "name": "stdout",
     "output_type": "stream",
     "text": [
      "no of terms : 3\n",
      "\n",
      "\n",
      "enter key : 4\n",
      "     enter value : sam\n",
      "\n",
      "\n",
      "enter key : 2\n",
      "     enter value : bam\n",
      "\n",
      "\n",
      "enter key : 8\n",
      "     enter value : tom\n",
      "\n",
      "\n",
      "the dictionary item are :  {'4': 'sam', '2': 'bam', '8': 'tom'}\n",
      "dict in ascending order :  [('2', 'bam'), ('4', 'sam'), ('8', 'tom')]\n",
      "dict in descending order :  [('8', 'tom'), ('4', 'sam'), ('2', 'bam')]\n"
     ]
    }
   ],
   "source": [
    "#sort dictionary in ascendind and  descending order\n",
    "dict={}\n",
    "n=int(input(\"no of terms : \"))\n",
    "print(\"\\n\")\n",
    "for i in range(n):\n",
    " n=input(\"enter key : \")\n",
    " print(end=\"     \")\n",
    " m=input(\"enter value : \")\n",
    " print(\"\\n\")\n",
    " dict[n]=m\n",
    "print(\"the dictionary item are : \",dict)\n",
    "r=sorted(dict.items(),reverse=True)\n",
    "t=sorted(dict.items())\n",
    "print(\"dict in ascending order : \",t)\n",
    "print(\"dict in descending order : \",r)\n"
   ]
  },
  {
   "cell_type": "code",
   "execution_count": 19,
   "metadata": {},
   "outputs": [
    {
     "name": "stdout",
     "output_type": "stream",
     "text": [
      "no of terms in first dictionary: 3\n",
      "\n",
      "\n",
      "enter key : 2\n",
      "     enter value : sam\n",
      "\n",
      "\n",
      "enter key : 1\n",
      "     enter value : man\n",
      "\n",
      "\n",
      "enter key : 4\n",
      "     enter value : jam\n",
      "\n",
      "\n",
      "no of terms in dictionary 2 : 2\n",
      "\n",
      "\n",
      "enter key : 7\n",
      "     enter value : ram\n",
      "\n",
      "\n",
      "enter key : 8\n",
      "     enter value : red\n",
      "\n",
      "\n",
      "first dictionary---> {'2': 'sam', '1': 'man', '4': 'jam'}\n",
      "second dictionary---> {'7': 'ram', '8': 'red'}\n",
      "merged dictionary---> {'2': 'sam', '1': 'man', '4': 'jam', '7': 'ram', '8': 'red'}\n"
     ]
    }
   ],
   "source": [
    "#merge two dictionary\n",
    "dict={}\n",
    "k=int(input(\"no of terms in first dictionary: \"))\n",
    "print(\"\\n\")\n",
    "for i in range(k):\n",
    " n=input(\"enter key : \")\n",
    " print(end=\"     \")\n",
    " m=input(\"enter value : \")\n",
    " print(\"\\n\")\n",
    " dict[n]=m\n",
    "\n",
    "dict1={}\n",
    "a=int(input(\"no of terms in dictionary 2 : \"))\n",
    "print(\"\\n\")\n",
    "for i in range(a):\n",
    " b=input(\"enter key : \")\n",
    " print(end=\"     \")\n",
    " c=input(\"enter value : \")\n",
    " print(\"\\n\")\n",
    " dict1[b]=c\n",
    "print(\"first dictionary--->\",dict)\n",
    "print(\"second dictionary--->\",dict1)\n",
    "dict.update(dict1)\n",
    "print(\"merged dictionary--->\",dict)"
   ]
  },
  {
   "cell_type": "code",
   "execution_count": null,
   "metadata": {
    "collapsed": true
   },
   "outputs": [],
   "source": []
  }
 ],
 "metadata": {
  "kernelspec": {
   "display_name": "Python 3",
   "language": "python",
   "name": "python3"
  },
  "language_info": {
   "codemirror_mode": {
    "name": "ipython",
    "version": 3
   },
   "file_extension": ".py",
   "mimetype": "text/x-python",
   "name": "python",
   "nbconvert_exporter": "python",
   "pygments_lexer": "ipython3",
   "version": "3.6.3"
  }
 },
 "nbformat": 4,
 "nbformat_minor": 2
}
