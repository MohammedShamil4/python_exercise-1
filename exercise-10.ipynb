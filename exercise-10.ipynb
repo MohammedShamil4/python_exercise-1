{
 "cells": [
  {
   "cell_type": "code",
   "execution_count": 1,
   "id": "9ad5ef45",
   "metadata": {},
   "outputs": [
    {
     "name": "stdout",
     "output_type": "stream",
     "text": [
      "1.Rectangle\n",
      "2.Circle\n",
      "3.Exit\n",
      "Enter your option:1\n",
      "Enter length: 3\n",
      "Enter breadth: 2\n",
      "area of rectangle is:  6\n",
      "perimeter of rectangle is:  10\n",
      "1.Rectangle\n",
      "2.Circle\n",
      "3.Exit\n",
      "Enter your option:2\n",
      "enter the radius:2\n",
      "area of circle is:  12.566370614359172\n",
      "perimeter of circle is:  12.566370614359172\n",
      "1.Rectangle\n",
      "2.Circle\n",
      "3.Exit\n",
      "Enter your option:3\n",
      "Exiting\n"
     ]
    }
   ],
   "source": [
    "#1create module for rectange circle\n",
    "\n",
    "from rectangle import r_area\n",
    "from rectangle import r_perimeter\n",
    "from circle import *\n",
    "\n",
    "\n",
    "while(1):\n",
    "    print(\"1.Rectangle\\n2.Circle\\n3.Exit\")\n",
    "    menu=int(input(\"Enter your option:\"))\n",
    "    if menu==1:\n",
    "        l=int(input(\"Enter length: \"))\n",
    "        b=int(input(\"Enter breadth: \"))\n",
    "        r_area(l,b)\n",
    "        r_perimeter(l,b)\n",
    "    elif menu==2:\n",
    "        m=int(input(\"enter the radius:\"))\n",
    "        area(m)\n",
    "        perimeter(m)\n",
    "    else:\n",
    "        print(\"Exiting\")\n",
    "        break\n",
    "        "
   ]
  },
  {
   "cell_type": "code",
   "execution_count": 2,
   "id": "1de02d67",
   "metadata": {},
   "outputs": [
    {
     "name": "stdout",
     "output_type": "stream",
     "text": [
      "1.Rectangle\n",
      "2.Circle\n",
      "3.Cuboid\n",
      "4.Sphere\n",
      "5.Exit\n",
      "Enter your option:1\n",
      "Enter length: 2\n",
      "Enter breadth: 3\n",
      "area of rectangle is:  6\n",
      "perimeter of rectangle is:  10\n",
      "1.Rectangle\n",
      "2.Circle\n",
      "3.Cuboid\n",
      "4.Sphere\n",
      "5.Exit\n",
      "Enter your option:2\n",
      "enter the radius:4\n",
      "area of circle is:  50.26548245743669\n",
      "perimeter of circle is:  25.132741228718345\n",
      "1.Rectangle\n",
      "2.Circle\n",
      "3.Cuboid\n",
      "4.Sphere\n",
      "5.Exit\n",
      "Enter your option:3\n",
      "Enter length: 2\n",
      "Enter breadth: 3\n",
      "Enter height: 4\n",
      "surface area of cuboid is:  52\n",
      "perimeter of cuboid is:  36\n",
      "1.Rectangle\n",
      "2.Circle\n",
      "3.Cuboid\n",
      "4.Sphere\n",
      "5.Exit\n",
      "Enter your option:4\n",
      "enter the radius:2\n",
      "area of sphere is:  50.26548245743669\n",
      "perimeter of sphere is:  12.566370614359172\n",
      "1.Rectangle\n",
      "2.Circle\n",
      "3.Cuboid\n",
      "4.Sphere\n",
      "5.Exit\n",
      "Enter your option:5\n",
      "Exit...\n"
     ]
    }
   ],
   "source": [
    "#package graphics and sub package graphics3d with modules for finding area and perimeter\n",
    "import graphics\n",
    "from graphics.rectangle import r_area\n",
    "from graphics.rectangle import r_perimeter\n",
    "from graphics.circle import*\n",
    "from graphics.graphics3d.cuboid import*\n",
    "from graphics.graphics3d.sphere import*\n",
    "while(1):\n",
    "    print(\"1.Rectangle\\n2.Circle\\n3.Cuboid\\n4.Sphere\\n5.Exit\")\n",
    "    menu=int(input(\"Enter your option:\"))\n",
    "    if menu==1:\n",
    "        l=int(input(\"Enter length: \"))\n",
    "        b=int(input(\"Enter breadth: \"))\n",
    "        r_area(l,b)\n",
    "        r_perimeter(l,b)\n",
    "       \n",
    "    elif menu==2:\n",
    "        m=int(input(\"enter the radius:\"))\n",
    "        area(m)\n",
    "        perimeter(m)\n",
    "    elif menu==3:\n",
    "        l=int(input(\"Enter length: \"))\n",
    "        b=int(input(\"Enter breadth: \"))\n",
    "        h=int(input(\"Enter height: \"))\n",
    "        cuboid_sarea(l,b,h)\n",
    "        cuboid_perimeter(l,b,h)\n",
    "    elif menu==4:\n",
    "        r=int(input(\"enter the radius:\"))\n",
    "        s_area(r)\n",
    "        s_perimeter(r)\n",
    "    else:\n",
    "        print(\"Exit...\")    \n",
    "        break"
   ]
  },
  {
   "cell_type": "code",
   "execution_count": 11,
   "id": "a31027d8",
   "metadata": {},
   "outputs": [
    {
     "name": "stdout",
     "output_type": "stream",
     "text": [
      "Current day: 2022-02-08\n",
      "After substracion of 5 days from current date:  2022-02-03\n"
     ]
    }
   ],
   "source": [
    "#3.1python date and time substracion of 5 days from current date\n",
    "from datetime import datetime,timedelta\n",
    "day=date.today()\n",
    "\n",
    "s=day-timedelta(days=5)\n",
    "\n",
    "print(\"Current day:\",day)\n",
    "#print(\"After substracion of 5 days from current date: \",str(day.year)+\"-\"+str(day.month)+\"-\"+str(day.day-5))\n",
    "print(\"After substracion of 5 days from current date: \",s)"
   ]
  },
  {
   "cell_type": "code",
   "execution_count": 10,
   "id": "367f4afa",
   "metadata": {},
   "outputs": [
    {
     "name": "stdout",
     "output_type": "stream",
     "text": [
      "today: 2022-02-08\n",
      "tomorrow: 2022-02-09\n",
      "yesterday: 2022-02-07\n"
     ]
    }
   ],
   "source": [
    "#3.2using date and time print today tomorrow yesterday\n",
    "from datetime import datetime,timedelta\n",
    "cd=date.today()\n",
    "print(\"today:\",cd)\n",
    "tm=cd+timedelta(days=1)\n",
    "print(\"tomorrow:\",tm)\n",
    "y=cd-timedelta(days=1)\n",
    "print(\"yesterday:\",y)"
   ]
  },
  {
   "cell_type": "code",
   "execution_count": 9,
   "id": "c8bdb8b6",
   "metadata": {},
   "outputs": [
    {
     "name": "stdout",
     "output_type": "stream",
     "text": [
      "today: 2022-02-08\n",
      "Next 5 days printed below\n",
      "2022-02-09\n",
      "2022-02-10\n",
      "2022-02-11\n",
      "2022-02-12\n",
      "2022-02-13\n"
     ]
    }
   ],
   "source": [
    "#3.3 next 5 days\n",
    "from datetime import datetime,timedelta\n",
    "\n",
    "cd= date.today()\n",
    "print(\"today:\",cd)\n",
    "print(\"Next 5 days printed below\")\n",
    "for i in range(5):\n",
    "    print(cd+timedelta(days=i+1))"
   ]
  },
  {
   "cell_type": "code",
   "execution_count": 2,
   "id": "33996e3c",
   "metadata": {},
   "outputs": [
    {
     "name": "stdout",
     "output_type": "stream",
     "text": [
      " begin date : 2022-02-09\n",
      " upto date : 2022-02-16\n",
      "dates btween 2022-02-09 and 2022-02-16\n",
      "total days:  7\n",
      "2022-02-10\n",
      "2022-02-11\n",
      "2022-02-12\n",
      "2022-02-13\n",
      "2022-02-14\n",
      "2022-02-15\n"
     ]
    }
   ],
   "source": [
    "#3.4 print days between two dates\n",
    "\n",
    "from datetime import*\n",
    "a=date(2022,2,9)\n",
    "print(\" begin date :\",a)\n",
    "\n",
    "b=date(2022,2,16)\n",
    "print(\" upto date :\",b)\n",
    "c=(b-a).days\n",
    "print(\"dates btween\",a,\"and\",b)\n",
    "print(\"total days: \",c)\n",
    "for i in range(c-1):\n",
    "    print(a+timedelta(days=i+1))\n",
    "      "
   ]
  }
 ],
 "metadata": {
  "kernelspec": {
   "display_name": "Python 3",
   "language": "python",
   "name": "python3"
  },
  "language_info": {
   "codemirror_mode": {
    "name": "ipython",
    "version": 3
   },
   "file_extension": ".py",
   "mimetype": "text/x-python",
   "name": "python",
   "nbconvert_exporter": "python",
   "pygments_lexer": "ipython3",
   "version": "3.8.8"
  }
 },
 "nbformat": 4,
 "nbformat_minor": 5
}
