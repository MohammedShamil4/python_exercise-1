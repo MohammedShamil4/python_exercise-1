{
 "cells": [
  {
   "cell_type": "code",
   "execution_count": 12,
   "metadata": {},
   "outputs": [
    {
     "name": "stdout",
     "output_type": "stream",
     "text": [
      "enter the 1st number2\n",
      "enter the 2nd number2\n",
      "enter the 3rd number2\n",
      "the numbers are equal and thrice their sum value is :  18\n"
     ]
    }
   ],
   "source": [
    "#sum of three number if value are equal  then return thrice their sum\n",
    "def sum(a,b,c):\n",
    "    if a==b==c:\n",
    "        s=3*(a+b+c)\n",
    "        print(\"the numbers are equal and thrice their sum value is : \",s)\n",
    "    else:\n",
    "        s=a+b+c\n",
    "        print(\"the numbers are not equal and their sum value is : \",s)\n",
    "a=int(input(\"enter the 1st number\"))\n",
    "b=int(input(\"enter the 2nd number\"))\n",
    "c=int(input(\"enter the 3rd number\"))\n",
    "sum(a,b,c)"
   ]
  },
  {
   "cell_type": "code",
   "execution_count": 14,
   "metadata": {},
   "outputs": [
    {
     "name": "stdout",
     "output_type": "stream",
     "text": [
      "enter the number343\n",
      "10\n"
     ]
    }
   ],
   "source": [
    "#sum of digits of a number\n",
    "def sum(n):\n",
    "    sum = 0\n",
    "    for x in str(n): \n",
    "        sum=sum+int(x)    \n",
    "    return sum\n",
    "   \n",
    "n=int(input(\"enter the number\"))\n",
    "print(sum(n))"
   ]
  },
  {
   "cell_type": "code",
   "execution_count": 3,
   "metadata": {},
   "outputs": [
    {
     "name": "stdout",
     "output_type": "stream",
     "text": [
      "enter the string : WINowe Yu\n",
      "Uppercase - 4\n",
      "Lowercase - 4\n"
     ]
    }
   ],
   "source": [
    "#calculate no.uppercase and lowercase letters from string\n",
    "\n",
    "\n",
    "def string(s):\n",
    "    n= 0\n",
    "    m= 0\n",
    "    for a in s: \n",
    "        if (a.isupper()) == True: \n",
    "            n+= 1\n",
    "        elif (a.islower()) == True: \n",
    "            m+= 1        \n",
    "    print(\"Uppercase -\", n) \n",
    "    print(\"Lowercase -\", m) \n",
    " \n",
    "s=input(\"enter the string : \")\n",
    "string(s) \n",
    "\n",
    "    "
   ]
  },
  {
   "cell_type": "code",
   "execution_count": 8,
   "metadata": {},
   "outputs": [
    {
     "name": "stdout",
     "output_type": "stream",
     "text": [
      "enter the number 22\n",
      "not prime\n"
     ]
    }
   ],
   "source": [
    "# prime number using function\n",
    "def prime(n):\n",
    "    n=int(input(\"enter the number \"))\n",
    "    f=1\n",
    "    for i in range (2,n): \n",
    "        if n%i==0:\n",
    "             print(\"not prime\")\n",
    "             f=0\n",
    "             break\n",
    "    if f==1:\n",
    "        print(\"prime\")\n",
    "        \n",
    "prime(n)"
   ]
  },
  {
   "cell_type": "code",
   "execution_count": 3,
   "metadata": {},
   "outputs": [
    {
     "name": "stdout",
     "output_type": "stream",
     "text": [
      "enter the year upto which year you want:2120\n",
      "LEAP YEARS FROM CURRENT YEAR TO YEAR 2120\n",
      "2024  2028  2032  2036  2040  2044  2048  2052  2056  2060  2064  2068  2072  2076  2080  2084  2088  2092  2096  2104  2108  2112  2116  2120  "
     ]
    }
   ],
   "source": [
    "#display future leap year from current year to a final year entered by user\n",
    "def leap_year(n):\n",
    "    while n!=0 and n>=2021:\n",
    "        print(\"LEAP YEARS FROM CURRENT YEAR TO YEAR\",n)\n",
    "        for i in range (2021,n+1):\n",
    "            if i%4==0 and (i%400 == 0 or i%100!=0):\n",
    "                print(i,\"\",end=\" \")         \n",
    "        break\n",
    "    else:\n",
    "         print(\"enter valid year\")\n",
    "\n",
    "n=int(input(\"enter the year upto which year you want:\"))\n",
    "leap_year(n)\n"
   ]
  },
  {
   "cell_type": "code",
   "execution_count": 1,
   "metadata": {},
   "outputs": [
    {
     "name": "stdout",
     "output_type": "stream",
     "text": [
      "number of employees to be added : 2\n",
      "enter employee name : sam\n",
      "enter salary : \n",
      "name = sam salary = 8000\n",
      "enter employee name : tom\n",
      "enter salary : 9000\n",
      "name = tom salary = 9000\n"
     ]
    }
   ],
   "source": [
    "#employee name and salary display if salary is missing in function call it should show it as 8000\n",
    "def show_employee(name,salary=\"8000\"):\n",
    "   print(\"name =\" ,name ,\"salary =\",salary)\n",
    "\n",
    "t=int(input(\"number of employees to be added : \"))\n",
    "for i in range (0,t):\n",
    "    n=input(\"enter employee name : \")\n",
    "    s=input(\"enter salary : \")\n",
    "    if s!=\"\":\n",
    "         show_employee(n,s)\n",
    "    else :\n",
    "        show_employee(n)"
   ]
  },
  {
   "cell_type": "code",
   "execution_count": 10,
   "metadata": {},
   "outputs": [
    {
     "name": "stdout",
     "output_type": "stream",
     "text": [
      "enter the numbers using comma : 2,-4,121,12,554\n",
      "minimum of the list of values is :  -4\n"
     ]
    }
   ],
   "source": [
    "#function minvalue() from variable length of argument and return minimum among all argument values\n",
    "def minvalue(*x):\n",
    "    print(\"minimum of the list of values is : \",min(x))\n",
    "\n",
    "l=list(map(int,input(\"enter the numbers using comma : \").split(\",\")))\n",
    "minvalue(*l)"
   ]
  },
  {
   "cell_type": "code",
   "execution_count": 7,
   "metadata": {},
   "outputs": [
    {
     "name": "stdout",
     "output_type": "stream",
     "text": [
      "enter number of persons : 2\n",
      "details for persons: 1\n",
      "enter number of information you have to provide: 2\n",
      "enter  information: name\n",
      "enter corresponding information: john\n",
      "enter  information: class\n",
      "enter corresponding information: mca\n",
      "{'name': 'john', 'class': 'mca'}\n",
      "\n",
      "\n",
      "details for persons: 2\n",
      "enter number of information you have to provide: 2\n",
      "enter  information: college\n",
      "enter corresponding information: kmct\n",
      "enter  information: place\n",
      "enter corresponding information: kozhikode\n",
      "{'college': 'kmct', 'place': 'kozhikode'}\n",
      "\n",
      "\n"
     ]
    }
   ],
   "source": [
    "# function -keyword variable length of argument of use info and display user info\n",
    "def userinfo(**d):\n",
    "    print(d)\n",
    "    print(\"\\n\")\n",
    "    \n",
    "    \n",
    "d={}\n",
    "n=int(input(\"enter number of persons : \"))\n",
    "for i in range(n):\n",
    "    print(\"details for persons:\",i+1)\n",
    "    n2=int(input(\"enter number of information you have to provide: \"))\n",
    "    for j in range(n2):\n",
    "        key=input(\"enter  information: \")\n",
    "        val=input(\"enter corresponding information: \")\n",
    "        d[key]=val   \n",
    "    userinfo(**d)\n",
    "    d.clear()"
   ]
  },
  {
   "cell_type": "code",
   "execution_count": null,
   "metadata": {
    "collapsed": true
   },
   "outputs": [],
   "source": []
  }
 ],
 "metadata": {
  "kernelspec": {
   "display_name": "Python 3",
   "language": "python",
   "name": "python3"
  },
  "language_info": {
   "codemirror_mode": {
    "name": "ipython",
    "version": 3
   },
   "file_extension": ".py",
   "mimetype": "text/x-python",
   "name": "python",
   "nbconvert_exporter": "python",
   "pygments_lexer": "ipython3",
   "version": "3.6.3"
  }
 },
 "nbformat": 4,
 "nbformat_minor": 2
}
