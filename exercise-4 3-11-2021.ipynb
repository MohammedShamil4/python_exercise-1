{
 "cells": [
  {
   "cell_type": "code",
   "execution_count": 6,
   "metadata": {},
   "outputs": [
    {
     "name": "stdout",
     "output_type": "stream",
     "text": [
      "enter the string: hello world\n",
      "swapped string is:  dello worlh\n"
     ]
    }
   ],
   "source": [
    "#swap first and last char of a string\n",
    "str=input(\"enter the string: \")\n",
    "l=len(str)\n",
    "n=str[l-1]+str[1:l-1]+str[-l]\n",
    "\n",
    "print(\"swapped string is: \",n)"
   ]
  },
  {
   "cell_type": "code",
   "execution_count": 9,
   "metadata": {},
   "outputs": [
    {
     "name": "stdout",
     "output_type": "stream",
     "text": [
      "enter the string: hello world\n",
      "new string is:  held\n"
     ]
    }
   ],
   "source": [
    "#to get a new string with first two letter and last two letters from last old string\n",
    "str=input(\"enter the string: \")\n",
    "l=len(str)\n",
    "n=str[-l:2]+str[l-2:l]\n",
    "\n",
    "print(\"new string is: \",n)"
   ]
  },
  {
   "cell_type": "code",
   "execution_count": 15,
   "metadata": {},
   "outputs": [
    {
     "name": "stdout",
     "output_type": "stream",
     "text": [
      "enter the first string: hello\n",
      "enter the second string: world\n",
      "new string is:  wollo herld\n"
     ]
    }
   ],
   "source": [
    "#to get a new string with first two letter swapped of two strings\n",
    "\n",
    "str=input(\"enter the first string: \")\n",
    "str2=input(\"enter the second string: \")\n",
    "l=len(str)\n",
    "n=len(str2)\n",
    "m=str2[0:2]+str[2:]+\" \"+str[0:2]+str2[2:]\n",
    "\n",
    "\n",
    "print(\"new string is: \",m)\n"
   ]
  },
  {
   "cell_type": "code",
   "execution_count": 14,
   "metadata": {},
   "outputs": [
    {
     "name": "stdout",
     "output_type": "stream",
     "text": [
      "enter the first string: hello happy hard \n",
      "new string is:  hello $appy $ard \n"
     ]
    }
   ],
   "source": [
    "#program to replace specified char except first to $\n",
    "str=input(\"enter the first string: \")\n",
    "l=len(str)\n",
    "n=str[0]\n",
    "g=str.replace(n,\"$\")\n",
    "m=str[0]+g[1:]\n",
    "print(\"new string is: \",m)"
   ]
  }
 ],
 "metadata": {
  "kernelspec": {
   "display_name": "Python 3",
   "language": "python",
   "name": "python3"
  },
  "language_info": {
   "codemirror_mode": {
    "name": "ipython",
    "version": 3
   },
   "file_extension": ".py",
   "mimetype": "text/x-python",
   "name": "python",
   "nbconvert_exporter": "python",
   "pygments_lexer": "ipython3",
   "version": "3.8.8"
  }
 },
 "nbformat": 4,
 "nbformat_minor": 2
}
