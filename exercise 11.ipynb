{
 "cells": [
  {
   "cell_type": "code",
   "execution_count": 2,
   "id": "71fcbb64",
   "metadata": {},
   "outputs": [
    {
     "name": "stdout",
     "output_type": "stream",
     "text": [
      "enter source:file.text\n",
      "enter destination file:file2.txt\n",
      "coppied file\n"
     ]
    }
   ],
   "source": [
    "#1program to copy a text file to another\n",
    "file1=input(\"enter source:\")\n",
    "file2=input(\"enter destination file:\")\n",
    "fr=open(file1,\"r\")\n",
    "fw=open(file2,\"w\")\n",
    "for line in fr.readlines():\n",
    "    fw.write(line)\n",
    "fr.close()\n",
    "fw.close()\n",
    "print(\"coppied file\")"
   ]
  },
  {
   "cell_type": "code",
   "execution_count": 3,
   "id": "bb03179b",
   "metadata": {},
   "outputs": [
    {
     "name": "stdout",
     "output_type": "stream",
     "text": [
      "enter source file:file.text\n",
      "enter destination file:file2.txt\n",
      "file appended\n"
     ]
    }
   ],
   "source": [
    "#2program to apend a text file to another\n",
    "file1=input(\"enter source file:\")\n",
    "file2=input(\"enter destination file:\")\n",
    "fr=open(file1,\"r\")\n",
    "fw=open(file2,\"a\")\n",
    "for line in fr.readlines():\n",
    "    fw.write(line)\n",
    "fr.close()\n",
    "fw.close()\n",
    "print(\"file appended\")"
   ]
  },
  {
   "cell_type": "code",
   "execution_count": 5,
   "id": "838b6a9a",
   "metadata": {},
   "outputs": [
    {
     "name": "stdout",
     "output_type": "stream",
     "text": [
      "Enter the file namefile.text\n",
      "1\n"
     ]
    }
   ],
   "source": [
    "#3program to count no.of lines ina file\n",
    "file=input(\"Enter the file name\")\n",
    "fr=open(file,\"r\")\n",
    "count=0\n",
    "for l in fr.readlines():\n",
    "    count=count+1\n",
    "    \n",
    "fr.close()\n",
    "print(count)\n",
    "    "
   ]
  },
  {
   "cell_type": "code",
   "execution_count": 7,
   "id": "55aa461a",
   "metadata": {},
   "outputs": [
    {
     "name": "stdout",
     "output_type": "stream",
     "text": [
      "enter source file:file2.txt\n",
      "enter destination file:file.text\n",
      "Odd lines copied\n"
     ]
    }
   ],
   "source": [
    "#4prgm to copy oddlines\n",
    "file1=input(\"enter source file:\")\n",
    "file2=input(\"enter destination file:\")\n",
    "fr=open(file1,\"r\")\n",
    "fw=open(file2,\"w\")\n",
    "i=0\n",
    "for l in fr.readlines():\n",
    "    i+=1\n",
    "    if i%2==0:\n",
    "        continue\n",
    "    fw.write(l)\n",
    "fr.close()\n",
    "fw.close()\n",
    "print(\"Odd lines copied\")\n",
    "    \n",
    "    "
   ]
  },
  {
   "cell_type": "code",
   "execution_count": 4,
   "id": "854f6b36",
   "metadata": {},
   "outputs": [
    {
     "name": "stdout",
     "output_type": "stream",
     "text": [
      "enter id:1\n",
      "enter name:sam\n",
      "enter dob:12/12/12\n",
      "enter Salary:1200\n",
      "enter id:2\n",
      "enter name:ram\n",
      "enter dob:13/12/12\n",
      "enter Salary:1300\n",
      "enter id:3\n",
      "enter name:tom\n",
      "enter dob:14/12/12\n",
      "enter Salary:1400\n",
      "['empid', 'empname', 'DOB', 'Salary']\n",
      "['1', 'sam', '12/12/12', '1200']\n",
      "['2', 'ram', '13/12/12', '1300']\n",
      "['3', 'tom', '14/12/12', '1400']\n"
     ]
    }
   ],
   "source": [
    "#5python prgm to writ dict to a csv file\n",
    "import csv\n",
    "with open(\"csv1.csv\",\"w\",newline='') as f:\n",
    "    fnames=['empid','empname','DOB','Salary']\n",
    "    writer=csv.DictWriter(f,fieldnames=fnames)\n",
    "    writer.writeheader()\n",
    "    for i in range(3):\n",
    "        writer.writerow({\"empid\":input(\"enter id:\"),\"empname\":input(\"enter name:\"),\"DOB\":input(\"enter dob:\"),\"Salary\":input(\"enter Salary:\")})\n",
    "    \n",
    "with open('csv1.csv', 'r') as file:\n",
    "    reader = csv.reader(file)\n",
    "    for row in reader:\n",
    "        print(row)"
   ]
  },
  {
   "cell_type": "code",
   "execution_count": 9,
   "id": "9079a577",
   "metadata": {},
   "outputs": [
    {
     "name": "stdout",
     "output_type": "stream",
     "text": [
      "{'empid': '1', 'empname': 'sam', 'DOB': '12/12/12', 'Salary': '1200'}\n",
      "{'empid': '2', 'empname': 'ram', 'DOB': '13/12/12', 'Salary': '1300'}\n",
      "{'empid': '3', 'empname': 'tom', 'DOB': '14/12/12', 'Salary': '1400'}\n"
     ]
    }
   ],
   "source": [
    "#6prgm to read each row and  print lists of strings\n",
    "import csv\n",
    "with open(\"csv1.csv\",\"r\") as f:\n",
    "    reader=csv.DictReader(f)\n",
    "    for row in reader:\n",
    "        print(dict(row))"
   ]
  },
  {
   "cell_type": "code",
   "execution_count": 11,
   "id": "f07b9fad",
   "metadata": {},
   "outputs": [
    {
     "name": "stdout",
     "output_type": "stream",
     "text": [
      "Enter csv file name : sample.csv\n",
      "Enter the no.of department : 2\n",
      "------------------------\n",
      "Enter the details of 1th department\n",
      "\n",
      "enter dptid:1\n",
      "enter department name:mca\n",
      "enter no.of employees:2\n",
      "enter Location:calicut\n",
      "------------------------\n",
      "Enter the details of 2th department\n",
      "\n",
      "enter dptid:2\n",
      "enter department name:mba\n",
      "enter no.of employees:2\n",
      "enter Location:calicut\n",
      "---------------------\n",
      "Department Id and Department Name are given below \n",
      "1 mca\n",
      "2 mba\n"
     ]
    }
   ],
   "source": [
    "#prgrm to read specific column in csv file\n",
    "import csv\n",
    "file=input(\"Enter csv file name : \")\n",
    "with open(file,\"w\",newline=\"\") as f:\n",
    "    fnames=['dptid','dptname','Totalemployees','Location']\n",
    "    writer=csv.DictWriter(f,fieldnames=fnames)\n",
    "    writer.writeheader()\n",
    "    n=int(input(\"Enter the no.of department : \"))\n",
    "    for i in range(n):\n",
    "        print(\"------------------------\")\n",
    "        print(\"Enter the details of \"+str(i+1)+\"th department\\n\")\n",
    "            \n",
    "        writer.writerow({\"dptid\":input(\"enter dptid:\"),\"dptname\":input(\"enter department name:\"),\"Totalemployees\":input(\"enter no.of employees:\"),\"Location\":input(\"enter Location:\")})\n",
    "print(\"---------------------\")        \n",
    "with open(file,\"r\") as f:\n",
    "    reader=csv.DictReader(f)\n",
    "    print(\"Department Id and Department Name are given below \")\n",
    "    for i in reader:\n",
    "        print(i[\"dptid\"],i[\"dptname\"])"
   ]
  },
  {
   "cell_type": "code",
   "execution_count": 13,
   "id": "efcfd709",
   "metadata": {},
   "outputs": [
    {
     "name": "stdout",
     "output_type": "stream",
     "text": [
      "{'dptid': '1', 'dptname': 'mca', 'Totalemployees': '2', 'Location': 'calicut'}\n",
      "{'dptid': '2', 'dptname': 'mba', 'Totalemployees': '2', 'Location': 'calicut'}\n"
     ]
    }
   ],
   "source": [
    "import csv\n",
    "with open(\"sample.csv\",\"r\") as f:\n",
    "    reader=csv.DictReader(f)\n",
    "    for i in reader:\n",
    "        print(i)"
   ]
  },
  {
   "cell_type": "code",
   "execution_count": null,
   "id": "64e2ca50",
   "metadata": {},
   "outputs": [],
   "source": []
  }
 ],
 "metadata": {
  "kernelspec": {
   "display_name": "Python 3",
   "language": "python",
   "name": "python3"
  },
  "language_info": {
   "codemirror_mode": {
    "name": "ipython",
    "version": 3
   },
   "file_extension": ".py",
   "mimetype": "text/x-python",
   "name": "python",
   "nbconvert_exporter": "python",
   "pygments_lexer": "ipython3",
   "version": "3.8.8"
  }
 },
 "nbformat": 4,
 "nbformat_minor": 5
}
