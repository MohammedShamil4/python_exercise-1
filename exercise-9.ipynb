{
 "cells": [
  {
   "cell_type": "code",
   "execution_count": 30,
   "metadata": {},
   "outputs": [
    {
     "name": "stdout",
     "output_type": "stream",
     "text": [
      "\n",
      "1.square \n",
      "2.rectangle \n",
      "3.triangle\n",
      "enter your choice : 1\n",
      "enter the side of square : 5\n",
      "area of the square is :  25\n",
      "\n",
      "1.square \n",
      "2.rectangle \n",
      "3.triangle\n",
      "enter your choice : 6\n",
      "Exiting..................\n"
     ]
    }
   ],
   "source": [
    "#lambda function to find area square,rectangle, and triangle\n",
    "\n",
    "square=lambda a:a*a\n",
    "rectangle=lambda l,b:l*b\n",
    "triangle=lambda b,h:0.5*b*h\n",
    "\n",
    "while(1):\n",
    "    print(\"\\n1.square \\n2.rectangle \\n3.triangle\")\n",
    "    ch=int(input(\"enter your choice : \"))\n",
    "    if ch==1:\n",
    "        n=int(input(\"enter the side of square : \"))\n",
    "        print(\"area of the square is : \",square(n))\n",
    "    elif ch==2:\n",
    "        a=int(input(\"enter the length of rectangle : \"))\n",
    "        b=int(input(\"enter the breadth of rectangle : \"))\n",
    "        print(\"area of the rectangle is : \",rectangle(a,b))\n",
    "    elif ch==3:\n",
    "        a=int(input(\"enter the height of triangle : \"))\n",
    "        b=int(input(\"enter the base of triangle : \"))\n",
    "        print(\"area of the triangle is : \",triangle(a,b))\n",
    "    else:\n",
    "        print(\"Exiting..................\")\n",
    "        break\n",
    "  "
   ]
  },
  {
   "cell_type": "code",
   "execution_count": 33,
   "metadata": {},
   "outputs": [
    {
     "name": "stdout",
     "output_type": "stream",
     "text": [
      "starting range of 4 digit number : 1000\n",
      "upto : 9999\n",
      "4624\n",
      "6084\n",
      "6400\n",
      "8464\n"
     ]
    }
   ],
   "source": [
    "#list of 4 digit number in a given range with all their digits even and number is a perfect square \n",
    "n=int(input(\"starting range of 4 digit number : \"))\n",
    "m=int(input(\"upto : \"))\n",
    "for a in range(n,m+1):\n",
    "    if all(int(b) % 2 == 0 for b in str(a)):\n",
    "        root = math.sqrt(a)\n",
    "        if int(root) ** 2 == a:\n",
    "            print(a)"
   ]
  },
  {
   "cell_type": "code",
   "execution_count": 1,
   "metadata": {},
   "outputs": [
    {
     "name": "stdout",
     "output_type": "stream",
     "text": [
      "Enter a string : caring\n",
      "added --ly--in the string:  caringly\n"
     ]
    }
   ],
   "source": [
    "#prgm to add or change \"ing\" or \"ly\" in the end of a string \n",
    "s=input(\"Enter a string : \")\n",
    "t=s[-3:]\n",
    "if t==\"ing\":\n",
    "    s=s+\"ly\"\n",
    "    print(\"added --ly--in the string: \",s)\n",
    "else:\n",
    "    s=s+\"ing\"\n",
    "    print(\"added --ing--in the string: \",s)"
   ]
  },
  {
   "cell_type": "code",
   "execution_count": 34,
   "metadata": {},
   "outputs": [
    {
     "name": "stdout",
     "output_type": "stream",
     "text": [
      "Enter some coma seperated words: too,better,is,y\n",
      "better\n",
      "length of longest word is -->  6\n"
     ]
    }
   ],
   "source": [
    "#list of word and return length of longest word\n",
    "s=input(\"Enter some coma seperated words: \")\n",
    "l=s.split(\",\")\n",
    "print(max(l, key=len))\n",
    "s=len(max(l, key=len))\n",
    "print(\"length of longest word is --> \",s)"
   ]
  },
  {
   "cell_type": "code",
   "execution_count": null,
   "metadata": {
    "collapsed": true
   },
   "outputs": [],
   "source": []
  }
 ],
 "metadata": {
  "kernelspec": {
   "display_name": "Python 3",
   "language": "python",
   "name": "python3"
  },
  "language_info": {
   "codemirror_mode": {
    "name": "ipython",
    "version": 3
   },
   "file_extension": ".py",
   "mimetype": "text/x-python",
   "name": "python",
   "nbconvert_exporter": "python",
   "pygments_lexer": "ipython3",
   "version": "3.8.8"
  }
 },
 "nbformat": 4,
 "nbformat_minor": 2
}
